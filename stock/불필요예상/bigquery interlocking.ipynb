{
 "cells": [
  {
   "cell_type": "markdown",
   "metadata": {},
   "source": [
    "# 안쓰는 것"
   ]
  },
  {
   "cell_type": "markdown",
   "metadata": {},
   "source": [
    "## 서비스 계정 키 설정"
   ]
  },
  {
   "cell_type": "code",
   "execution_count": 1,
   "metadata": {},
   "outputs": [],
   "source": [
    "import glob\n",
    "\n",
    "from google.cloud import bigquery\n",
    "from google.oauth2 import service_account\n",
    "\n",
    "# 서비스 계정 키 JSON 파일 경로\n",
    "key_path = glob.glob(\"F:/스파르타강의/프로젝트 데이터/실전프로젝트/config/*.json\")[0]\n",
    "\n",
    "# Credentials 객체 생성\n",
    "credentials = service_account.Credentials.from_service_account_file(key_path)"
   ]
  },
  {
   "cell_type": "markdown",
   "metadata": {},
   "source": [
    "## 빅쿼리 클라이언트 정의"
   ]
  },
  {
   "cell_type": "code",
   "execution_count": 2,
   "metadata": {},
   "outputs": [],
   "source": [
    "# GCP 클라이언트 객체 생성\n",
    "client = bigquery.Client(credentials = credentials, \n",
    "                         project = credentials.project_id)"
   ]
  },
  {
   "cell_type": "markdown",
   "metadata": {},
   "source": [
    "# 데이터 불러오기"
   ]
  },
  {
   "cell_type": "code",
   "execution_count": 1,
   "metadata": {},
   "outputs": [
    {
     "name": "stderr",
     "output_type": "stream",
     "text": [
      "[*********************100%%**********************]  1 of 1 completed\n"
     ]
    },
    {
     "data": {
      "text/html": [
       "<div>\n",
       "<style scoped>\n",
       "    .dataframe tbody tr th:only-of-type {\n",
       "        vertical-align: middle;\n",
       "    }\n",
       "\n",
       "    .dataframe tbody tr th {\n",
       "        vertical-align: top;\n",
       "    }\n",
       "\n",
       "    .dataframe thead th {\n",
       "        text-align: right;\n",
       "    }\n",
       "</style>\n",
       "<table border=\"1\" class=\"dataframe\">\n",
       "  <thead>\n",
       "    <tr style=\"text-align: right;\">\n",
       "      <th></th>\n",
       "      <th>Open</th>\n",
       "      <th>High</th>\n",
       "      <th>Low</th>\n",
       "      <th>Close</th>\n",
       "      <th>Adj_Close</th>\n",
       "      <th>Volume</th>\n",
       "      <th>ds</th>\n",
       "      <th>y</th>\n",
       "    </tr>\n",
       "    <tr>\n",
       "      <th>Date</th>\n",
       "      <th></th>\n",
       "      <th></th>\n",
       "      <th></th>\n",
       "      <th></th>\n",
       "      <th></th>\n",
       "      <th></th>\n",
       "      <th></th>\n",
       "      <th></th>\n",
       "    </tr>\n",
       "  </thead>\n",
       "  <tbody>\n",
       "    <tr>\n",
       "      <th>2021-01-04</th>\n",
       "      <td>133.520004</td>\n",
       "      <td>133.610001</td>\n",
       "      <td>126.760002</td>\n",
       "      <td>129.410004</td>\n",
       "      <td>127.002121</td>\n",
       "      <td>143301900</td>\n",
       "      <td>2021-01-04</td>\n",
       "      <td>129.410004</td>\n",
       "    </tr>\n",
       "    <tr>\n",
       "      <th>2021-01-05</th>\n",
       "      <td>128.889999</td>\n",
       "      <td>131.740005</td>\n",
       "      <td>128.429993</td>\n",
       "      <td>131.009995</td>\n",
       "      <td>128.572327</td>\n",
       "      <td>97664900</td>\n",
       "      <td>2021-01-05</td>\n",
       "      <td>131.009995</td>\n",
       "    </tr>\n",
       "    <tr>\n",
       "      <th>2021-01-06</th>\n",
       "      <td>127.720001</td>\n",
       "      <td>131.050003</td>\n",
       "      <td>126.379997</td>\n",
       "      <td>126.599998</td>\n",
       "      <td>124.244377</td>\n",
       "      <td>155088000</td>\n",
       "      <td>2021-01-06</td>\n",
       "      <td>126.599998</td>\n",
       "    </tr>\n",
       "  </tbody>\n",
       "</table>\n",
       "</div>"
      ],
      "text/plain": [
       "                  Open        High         Low       Close   Adj_Close  \\\n",
       "Date                                                                     \n",
       "2021-01-04  133.520004  133.610001  126.760002  129.410004  127.002121   \n",
       "2021-01-05  128.889999  131.740005  128.429993  131.009995  128.572327   \n",
       "2021-01-06  127.720001  131.050003  126.379997  126.599998  124.244377   \n",
       "\n",
       "               Volume         ds           y  \n",
       "Date                                          \n",
       "2021-01-04  143301900 2021-01-04  129.410004  \n",
       "2021-01-05   97664900 2021-01-05  131.009995  \n",
       "2021-01-06  155088000 2021-01-06  126.599998  "
      ]
     },
     "execution_count": 1,
     "metadata": {},
     "output_type": "execute_result"
    }
   ],
   "source": [
    "import pandas as pd\n",
    "import yfinance as yf\n",
    "start = '2021-01-01'\n",
    "end = '2023-12-31'\n",
    "symbol = 'AAPL' # \"005930.KS\"\n",
    "df = yf.download(symbol, start, end)\n",
    "df = df.rename(columns={'Adj Close': 'Adj_Close'})\n",
    "df['ds'] = pd.to_datetime(df.index, format = '%Y-%m-%d') # 굳이 넣어야하나 고민중\n",
    "df['y'] = df['Close'] # 마찬가지로 굳이 넣어야하나 고민중\n",
    "df.head(3)"
   ]
  },
  {
   "cell_type": "code",
   "execution_count": 2,
   "metadata": {},
   "outputs": [
    {
     "name": "stdout",
     "output_type": "stream",
     "text": [
      "<class 'pandas.core.frame.DataFrame'>\n",
      "DatetimeIndex: 753 entries, 2021-01-04 to 2023-12-29\n",
      "Data columns (total 8 columns):\n",
      " #   Column     Non-Null Count  Dtype         \n",
      "---  ------     --------------  -----         \n",
      " 0   Open       753 non-null    float64       \n",
      " 1   High       753 non-null    float64       \n",
      " 2   Low        753 non-null    float64       \n",
      " 3   Close      753 non-null    float64       \n",
      " 4   Adj_Close  753 non-null    float64       \n",
      " 5   Volume     753 non-null    int64         \n",
      " 6   ds         753 non-null    datetime64[ns]\n",
      " 7   y          753 non-null    float64       \n",
      "dtypes: datetime64[ns](1), float64(6), int64(1)\n",
      "memory usage: 52.9 KB\n"
     ]
    }
   ],
   "source": [
    "df.info()"
   ]
  },
  {
   "cell_type": "code",
   "execution_count": 3,
   "metadata": {},
   "outputs": [],
   "source": [
    "import numpy as np\n",
    "from prophet import Prophet\n",
    "import matplotlib.pyplot as plt\n",
    "plt.style.use('fivethirtyeight')"
   ]
  },
  {
   "cell_type": "code",
   "execution_count": 4,
   "metadata": {},
   "outputs": [
    {
     "data": {
      "text/html": [
       "<div>\n",
       "<style scoped>\n",
       "    .dataframe tbody tr th:only-of-type {\n",
       "        vertical-align: middle;\n",
       "    }\n",
       "\n",
       "    .dataframe tbody tr th {\n",
       "        vertical-align: top;\n",
       "    }\n",
       "\n",
       "    .dataframe thead th {\n",
       "        text-align: right;\n",
       "    }\n",
       "</style>\n",
       "<table border=\"1\" class=\"dataframe\">\n",
       "  <thead>\n",
       "    <tr style=\"text-align: right;\">\n",
       "      <th></th>\n",
       "      <th>ds</th>\n",
       "      <th>y</th>\n",
       "    </tr>\n",
       "    <tr>\n",
       "      <th>Date</th>\n",
       "      <th></th>\n",
       "      <th></th>\n",
       "    </tr>\n",
       "  </thead>\n",
       "  <tbody>\n",
       "    <tr>\n",
       "      <th>2021-01-04</th>\n",
       "      <td>2021-01-04</td>\n",
       "      <td>129.410004</td>\n",
       "    </tr>\n",
       "    <tr>\n",
       "      <th>2021-01-05</th>\n",
       "      <td>2021-01-05</td>\n",
       "      <td>131.009995</td>\n",
       "    </tr>\n",
       "    <tr>\n",
       "      <th>2021-01-06</th>\n",
       "      <td>2021-01-06</td>\n",
       "      <td>126.599998</td>\n",
       "    </tr>\n",
       "    <tr>\n",
       "      <th>2021-01-07</th>\n",
       "      <td>2021-01-07</td>\n",
       "      <td>130.919998</td>\n",
       "    </tr>\n",
       "    <tr>\n",
       "      <th>2021-01-08</th>\n",
       "      <td>2021-01-08</td>\n",
       "      <td>132.050003</td>\n",
       "    </tr>\n",
       "    <tr>\n",
       "      <th>...</th>\n",
       "      <td>...</td>\n",
       "      <td>...</td>\n",
       "    </tr>\n",
       "    <tr>\n",
       "      <th>2023-12-22</th>\n",
       "      <td>2023-12-22</td>\n",
       "      <td>193.600006</td>\n",
       "    </tr>\n",
       "    <tr>\n",
       "      <th>2023-12-26</th>\n",
       "      <td>2023-12-26</td>\n",
       "      <td>193.050003</td>\n",
       "    </tr>\n",
       "    <tr>\n",
       "      <th>2023-12-27</th>\n",
       "      <td>2023-12-27</td>\n",
       "      <td>193.149994</td>\n",
       "    </tr>\n",
       "    <tr>\n",
       "      <th>2023-12-28</th>\n",
       "      <td>2023-12-28</td>\n",
       "      <td>193.580002</td>\n",
       "    </tr>\n",
       "    <tr>\n",
       "      <th>2023-12-29</th>\n",
       "      <td>2023-12-29</td>\n",
       "      <td>192.529999</td>\n",
       "    </tr>\n",
       "  </tbody>\n",
       "</table>\n",
       "<p>753 rows × 2 columns</p>\n",
       "</div>"
      ],
      "text/plain": [
       "                   ds           y\n",
       "Date                             \n",
       "2021-01-04 2021-01-04  129.410004\n",
       "2021-01-05 2021-01-05  131.009995\n",
       "2021-01-06 2021-01-06  126.599998\n",
       "2021-01-07 2021-01-07  130.919998\n",
       "2021-01-08 2021-01-08  132.050003\n",
       "...               ...         ...\n",
       "2023-12-22 2023-12-22  193.600006\n",
       "2023-12-26 2023-12-26  193.050003\n",
       "2023-12-27 2023-12-27  193.149994\n",
       "2023-12-28 2023-12-28  193.580002\n",
       "2023-12-29 2023-12-29  192.529999\n",
       "\n",
       "[753 rows x 2 columns]"
      ]
     },
     "metadata": {},
     "output_type": "display_data"
    },
    {
     "data": {
      "image/png": "[encoded data removed]",
      "text/plain": [
       "<Figure size 1200x400 with 1 Axes>"
      ]
     },
     "metadata": {},
     "output_type": "display_data"
    }
   ],
   "source": [
    "df_input = df[['ds','y']]\n",
    "display(df_input)\n",
    "ax = df_input['y'].plot(title = symbol, figsize =(12,4))\n",
    "ax.set_ylabel('Closs price (Won)')\n",
    "plt.show()"
   ]
  },
  {
   "cell_type": "code",
   "execution_count": 5,
   "metadata": {},
   "outputs": [
    {
     "name": "stderr",
     "output_type": "stream",
     "text": [
      "10:00:32 - cmdstanpy - INFO - Chain [1] start processing\n",
      "10:00:32 - cmdstanpy - INFO - Chain [1] done processing\n"
     ]
    },
    {
     "data": {
      "text/plain": [
       "<prophet.forecaster.Prophet at 0x1ec27a1af70>"
      ]
     },
     "execution_count": 5,
     "metadata": {},
     "output_type": "execute_result"
    }
   ],
   "source": [
    "model_prophet = Prophet(changepoint_prior_scale = 0.15, daily_seasonality = True)\n",
    "model_prophet.fit(df_input)"
   ]
  },
  {
   "cell_type": "markdown",
   "metadata": {},
   "source": [
    "예측하기 위한 날짜 생성"
   ]
  },
  {
   "cell_type": "code",
   "execution_count": 6,
   "metadata": {},
   "outputs": [
    {
     "data": {
      "text/html": [
       "<div>\n",
       "<style scoped>\n",
       "    .dataframe tbody tr th:only-of-type {\n",
       "        vertical-align: middle;\n",
       "    }\n",
       "\n",
       "    .dataframe tbody tr th {\n",
       "        vertical-align: top;\n",
       "    }\n",
       "\n",
       "    .dataframe thead th {\n",
       "        text-align: right;\n",
       "    }\n",
       "</style>\n",
       "<table border=\"1\" class=\"dataframe\">\n",
       "  <thead>\n",
       "    <tr style=\"text-align: right;\">\n",
       "      <th></th>\n",
       "      <th>ds</th>\n",
       "    </tr>\n",
       "  </thead>\n",
       "  <tbody>\n",
       "    <tr>\n",
       "      <th>1108</th>\n",
       "      <td>2024-12-19</td>\n",
       "    </tr>\n",
       "    <tr>\n",
       "      <th>1109</th>\n",
       "      <td>2024-12-20</td>\n",
       "    </tr>\n",
       "    <tr>\n",
       "      <th>1110</th>\n",
       "      <td>2024-12-21</td>\n",
       "    </tr>\n",
       "    <tr>\n",
       "      <th>1111</th>\n",
       "      <td>2024-12-22</td>\n",
       "    </tr>\n",
       "    <tr>\n",
       "      <th>1112</th>\n",
       "      <td>2024-12-23</td>\n",
       "    </tr>\n",
       "    <tr>\n",
       "      <th>1113</th>\n",
       "      <td>2024-12-24</td>\n",
       "    </tr>\n",
       "    <tr>\n",
       "      <th>1114</th>\n",
       "      <td>2024-12-25</td>\n",
       "    </tr>\n",
       "    <tr>\n",
       "      <th>1115</th>\n",
       "      <td>2024-12-26</td>\n",
       "    </tr>\n",
       "    <tr>\n",
       "      <th>1116</th>\n",
       "      <td>2024-12-27</td>\n",
       "    </tr>\n",
       "    <tr>\n",
       "      <th>1117</th>\n",
       "      <td>2024-12-28</td>\n",
       "    </tr>\n",
       "  </tbody>\n",
       "</table>\n",
       "</div>"
      ],
      "text/plain": [
       "             ds\n",
       "1108 2024-12-19\n",
       "1109 2024-12-20\n",
       "1110 2024-12-21\n",
       "1111 2024-12-22\n",
       "1112 2024-12-23\n",
       "1113 2024-12-24\n",
       "1114 2024-12-25\n",
       "1115 2024-12-26\n",
       "1116 2024-12-27\n",
       "1117 2024-12-28"
      ]
     },
     "execution_count": 6,
     "metadata": {},
     "output_type": "execute_result"
    }
   ],
   "source": [
    "fcast_time = 365 # 365일 예측\n",
    "freq_option = 'D'\n",
    "future = model_prophet.make_future_dataframe(periods = fcast_time, freq = freq_option)\n",
    "future.tail(10)"
   ]
  },
  {
   "cell_type": "code",
   "execution_count": 7,
   "metadata": {},
   "outputs": [],
   "source": [
    "from workalendar.usa import UnitedStates\n",
    "# AAPL의 경우 미국 거래소에서 거래가 이루어지니 미국 공휴일 정보 가져와서 리스트로 만드는 과정\n",
    "# cal = workalendar.usa.UnitedStates()\n",
    "cal = UnitedStates()\n",
    "holiday_dates = []\n",
    "\n",
    "for year in range(2021, 2025):  # 2021년부터 2024년까지\n",
    "    holiday_dates.extend([date for date, _ in cal.holidays(year)])"
   ]
  },
  {
   "cell_type": "code",
   "execution_count": 8,
   "metadata": {},
   "outputs": [],
   "source": [
    "future = future[future['ds'].dt.dayofweek < 5] # 주말 제외 작업\n",
    "future = future[~future['ds'].isin(holiday_dates)] # 공휴일 제외 작업"
   ]
  },
  {
   "cell_type": "code",
   "execution_count": 9,
   "metadata": {},
   "outputs": [
    {
     "data": {
      "text/html": [
       "<div>\n",
       "<style scoped>\n",
       "    .dataframe tbody tr th:only-of-type {\n",
       "        vertical-align: middle;\n",
       "    }\n",
       "\n",
       "    .dataframe tbody tr th {\n",
       "        vertical-align: top;\n",
       "    }\n",
       "\n",
       "    .dataframe thead th {\n",
       "        text-align: right;\n",
       "    }\n",
       "</style>\n",
       "<table border=\"1\" class=\"dataframe\">\n",
       "  <thead>\n",
       "    <tr style=\"text-align: right;\">\n",
       "      <th></th>\n",
       "      <th>ds</th>\n",
       "      <th>yhat</th>\n",
       "      <th>yhat_lower</th>\n",
       "      <th>yhat_upper</th>\n",
       "    </tr>\n",
       "  </thead>\n",
       "  <tbody>\n",
       "    <tr>\n",
       "      <th>991</th>\n",
       "      <td>2024-12-20</td>\n",
       "      <td>208.399744</td>\n",
       "      <td>42.202033</td>\n",
       "      <td>367.224300</td>\n",
       "    </tr>\n",
       "    <tr>\n",
       "      <th>992</th>\n",
       "      <td>2024-12-23</td>\n",
       "      <td>208.497468</td>\n",
       "      <td>42.220717</td>\n",
       "      <td>371.747792</td>\n",
       "    </tr>\n",
       "    <tr>\n",
       "      <th>993</th>\n",
       "      <td>2024-12-24</td>\n",
       "      <td>208.480149</td>\n",
       "      <td>39.797701</td>\n",
       "      <td>373.641023</td>\n",
       "    </tr>\n",
       "    <tr>\n",
       "      <th>994</th>\n",
       "      <td>2024-12-26</td>\n",
       "      <td>208.297338</td>\n",
       "      <td>42.135128</td>\n",
       "      <td>372.707398</td>\n",
       "    </tr>\n",
       "    <tr>\n",
       "      <th>995</th>\n",
       "      <td>2024-12-27</td>\n",
       "      <td>208.379444</td>\n",
       "      <td>38.918495</td>\n",
       "      <td>375.461734</td>\n",
       "    </tr>\n",
       "  </tbody>\n",
       "</table>\n",
       "</div>"
      ],
      "text/plain": [
       "            ds        yhat  yhat_lower  yhat_upper\n",
       "991 2024-12-20  208.399744   42.202033  367.224300\n",
       "992 2024-12-23  208.497468   42.220717  371.747792\n",
       "993 2024-12-24  208.480149   39.797701  373.641023\n",
       "994 2024-12-26  208.297338   42.135128  372.707398\n",
       "995 2024-12-27  208.379444   38.918495  375.461734"
      ]
     },
     "execution_count": 9,
     "metadata": {},
     "output_type": "execute_result"
    }
   ],
   "source": [
    "df_forecast = model_prophet.predict(future)\n",
    "df_forecast[['ds','yhat','yhat_lower','yhat_upper']].tail()"
   ]
  },
  {
   "cell_type": "code",
   "execution_count": null,
   "metadata": {},
   "outputs": [],
   "source": [
    "# model_prophet.plot(df_forecast, xlabel = 'Date',ylabel ='price($)')\n",
    "# model_prophet.plot_components(df_forecast);"
   ]
  },
  {
   "cell_type": "code",
   "execution_count": 1,
   "metadata": {},
   "outputs": [
    {
     "data": {
      "text/html": [
       "<div>\n",
       "<style scoped>\n",
       "    .dataframe tbody tr th:only-of-type {\n",
       "        vertical-align: middle;\n",
       "    }\n",
       "\n",
       "    .dataframe tbody tr th {\n",
       "        vertical-align: top;\n",
       "    }\n",
       "\n",
       "    .dataframe thead th {\n",
       "        text-align: right;\n",
       "    }\n",
       "</style>\n",
       "<table border=\"1\" class=\"dataframe\">\n",
       "  <thead>\n",
       "    <tr style=\"text-align: right;\">\n",
       "      <th></th>\n",
       "      <th>ds</th>\n",
       "      <th>trend</th>\n",
       "      <th>yhat_lower</th>\n",
       "      <th>yhat_upper</th>\n",
       "      <th>trend_lower</th>\n",
       "      <th>trend_upper</th>\n",
       "      <th>additive_terms</th>\n",
       "      <th>additive_terms_lower</th>\n",
       "      <th>additive_terms_upper</th>\n",
       "      <th>daily</th>\n",
       "      <th>...</th>\n",
       "      <th>weekly</th>\n",
       "      <th>weekly_lower</th>\n",
       "      <th>weekly_upper</th>\n",
       "      <th>yearly</th>\n",
       "      <th>yearly_lower</th>\n",
       "      <th>yearly_upper</th>\n",
       "      <th>multiplicative_terms</th>\n",
       "      <th>multiplicative_terms_lower</th>\n",
       "      <th>multiplicative_terms_upper</th>\n",
       "      <th>yhat</th>\n",
       "    </tr>\n",
       "  </thead>\n",
       "  <tbody>\n",
       "    <tr>\n",
       "      <th>0</th>\n",
       "      <td>2021-01-04</td>\n",
       "      <td>125.837293</td>\n",
       "      <td>127.996858</td>\n",
       "      <td>138.752594</td>\n",
       "      <td>125.837293</td>\n",
       "      <td>125.837293</td>\n",
       "      <td>7.130274</td>\n",
       "      <td>7.130274</td>\n",
       "      <td>7.130274</td>\n",
       "      <td>2.360639</td>\n",
       "      <td>...</td>\n",
       "      <td>0.160907</td>\n",
       "      <td>0.160907</td>\n",
       "      <td>0.160907</td>\n",
       "      <td>4.608728</td>\n",
       "      <td>4.608728</td>\n",
       "      <td>4.608728</td>\n",
       "      <td>0.0</td>\n",
       "      <td>0.0</td>\n",
       "      <td>0.0</td>\n",
       "      <td>132.967567</td>\n",
       "    </tr>\n",
       "    <tr>\n",
       "      <th>1</th>\n",
       "      <td>2021-01-05</td>\n",
       "      <td>125.788028</td>\n",
       "      <td>126.745361</td>\n",
       "      <td>138.011724</td>\n",
       "      <td>125.788028</td>\n",
       "      <td>125.788028</td>\n",
       "      <td>6.900233</td>\n",
       "      <td>6.900233</td>\n",
       "      <td>6.900233</td>\n",
       "      <td>2.360639</td>\n",
       "      <td>...</td>\n",
       "      <td>0.143280</td>\n",
       "      <td>0.143280</td>\n",
       "      <td>0.143280</td>\n",
       "      <td>4.396314</td>\n",
       "      <td>4.396314</td>\n",
       "      <td>4.396314</td>\n",
       "      <td>0.0</td>\n",
       "      <td>0.0</td>\n",
       "      <td>0.0</td>\n",
       "      <td>132.688260</td>\n",
       "    </tr>\n",
       "    <tr>\n",
       "      <th>2</th>\n",
       "      <td>2021-01-06</td>\n",
       "      <td>125.738762</td>\n",
       "      <td>127.256342</td>\n",
       "      <td>138.141318</td>\n",
       "      <td>125.738762</td>\n",
       "      <td>125.738762</td>\n",
       "      <td>6.693765</td>\n",
       "      <td>6.693765</td>\n",
       "      <td>6.693765</td>\n",
       "      <td>2.360639</td>\n",
       "      <td>...</td>\n",
       "      <td>0.150670</td>\n",
       "      <td>0.150670</td>\n",
       "      <td>0.150670</td>\n",
       "      <td>4.182456</td>\n",
       "      <td>4.182456</td>\n",
       "      <td>4.182456</td>\n",
       "      <td>0.0</td>\n",
       "      <td>0.0</td>\n",
       "      <td>0.0</td>\n",
       "      <td>132.432527</td>\n",
       "    </tr>\n",
       "  </tbody>\n",
       "</table>\n",
       "<p>3 rows × 22 columns</p>\n",
       "</div>"
      ],
      "text/plain": [
       "           ds       trend  yhat_lower  yhat_upper  trend_lower  trend_upper  \\\n",
       "0  2021-01-04  125.837293  127.996858  138.752594   125.837293   125.837293   \n",
       "1  2021-01-05  125.788028  126.745361  138.011724   125.788028   125.788028   \n",
       "2  2021-01-06  125.738762  127.256342  138.141318   125.738762   125.738762   \n",
       "\n",
       "   additive_terms  additive_terms_lower  additive_terms_upper     daily  ...  \\\n",
       "0        7.130274              7.130274              7.130274  2.360639  ...   \n",
       "1        6.900233              6.900233              6.900233  2.360639  ...   \n",
       "2        6.693765              6.693765              6.693765  2.360639  ...   \n",
       "\n",
       "     weekly  weekly_lower  weekly_upper    yearly  yearly_lower  yearly_upper  \\\n",
       "0  0.160907      0.160907      0.160907  4.608728      4.608728      4.608728   \n",
       "1  0.143280      0.143280      0.143280  4.396314      4.396314      4.396314   \n",
       "2  0.150670      0.150670      0.150670  4.182456      4.182456      4.182456   \n",
       "\n",
       "   multiplicative_terms  multiplicative_terms_lower  \\\n",
       "0                   0.0                         0.0   \n",
       "1                   0.0                         0.0   \n",
       "2                   0.0                         0.0   \n",
       "\n",
       "   multiplicative_terms_upper        yhat  \n",
       "0                         0.0  132.967567  \n",
       "1                         0.0  132.688260  \n",
       "2                         0.0  132.432527  \n",
       "\n",
       "[3 rows x 22 columns]"
      ]
     },
     "execution_count": 1,
     "metadata": {},
     "output_type": "execute_result"
    }
   ],
   "source": [
    "# import pandas as pd\n",
    "# df = pd.read_csv('predict_aapl_2021-01-01to2023-12-31_to365days.csv')\n",
    "# df.head(3)"
   ]
  },
  {
   "cell_type": "code",
   "execution_count": 6,
   "metadata": {},
   "outputs": [
    {
     "name": "stdout",
     "output_type": "stream",
     "text": [
      "<class 'pandas.core.frame.DataFrame'>\n",
      "RangeIndex: 1010 entries, 0 to 1009\n",
      "Data columns (total 22 columns):\n",
      " #   Column                      Non-Null Count  Dtype  \n",
      "---  ------                      --------------  -----  \n",
      " 0   ds                          1010 non-null   object \n",
      " 1   trend                       1010 non-null   float64\n",
      " 2   yhat_lower                  1010 non-null   float64\n",
      " 3   yhat_upper                  1010 non-null   float64\n",
      " 4   trend_lower                 1010 non-null   float64\n",
      " 5   trend_upper                 1010 non-null   float64\n",
      " 6   additive_terms              1010 non-null   float64\n",
      " 7   additive_terms_lower        1010 non-null   float64\n",
      " 8   additive_terms_upper        1010 non-null   float64\n",
      " 9   daily                       1010 non-null   float64\n",
      " 10  daily_lower                 1010 non-null   float64\n",
      " 11  daily_upper                 1010 non-null   float64\n",
      " 12  weekly                      1010 non-null   float64\n",
      " 13  weekly_lower                1010 non-null   float64\n",
      " 14  weekly_upper                1010 non-null   float64\n",
      " 15  yearly                      1010 non-null   float64\n",
      " 16  yearly_lower                1010 non-null   float64\n",
      " 17  yearly_upper                1010 non-null   float64\n",
      " 18  multiplicative_terms        1010 non-null   float64\n",
      " 19  multiplicative_terms_lower  1010 non-null   float64\n",
      " 20  multiplicative_terms_upper  1010 non-null   float64\n",
      " 21  yhat                        1010 non-null   float64\n",
      "dtypes: float64(21), object(1)\n",
      "memory usage: 173.7+ KB\n"
     ]
    }
   ],
   "source": [
    "# df.info() # 데이터 타입 확인하고 변경해주기"
   ]
  },
  {
   "cell_type": "markdown",
   "metadata": {},
   "source": [
    "밑에 실행하기 전에 df의 형식 확인하고 변경해주기"
   ]
  },
  {
   "cell_type": "code",
   "execution_count": 13,
   "metadata": {},
   "outputs": [
    {
     "name": "stdout",
     "output_type": "stream",
     "text": [
      "Dataset already exists.\n"
     ]
    },
    {
     "name": "stderr",
     "output_type": "stream",
     "text": [
      "100%|██████████| 1/1 [00:00<?, ?it/s]\n"
     ]
    }
   ],
   "source": [
    "from google.cloud import bigquery\n",
    "from google.cloud.exceptions import NotFound\n",
    "\n",
    "# BigQuery 클라이언트 생성\n",
    "client = bigquery.Client()\n",
    "project_id = client.project #'actual-project-415811'\n",
    "\n",
    "### 여기 설정 ###\n",
    "dataset_name = 'stockdata' # 여기 부분 원하는 데이터셋으로 설정\n",
    "### 여기 설정 끝 ###\n",
    "\n",
    "# 데이터 세트 ID 설정. 이 ID는 '[YOUR_PROJECT_ID].[DATASET_ID]' 형식이어야 합니다.\n",
    "dataset_id = \"{}.{}\".format(project_id, dataset_name)\n",
    "\n",
    "# 데이터 세트 참조 생성\n",
    "dataset_ref = bigquery.DatasetReference.from_string(dataset_id)\n",
    "\n",
    "try:\n",
    "    # 데이터 세트가 존재하는지 확인\n",
    "    client.get_dataset(dataset_ref)\n",
    "    print(\"Dataset already exists.\")\n",
    "except NotFound:\n",
    "    # 데이터 세트가 존재하지 않으면, 데이터 세트 생성\n",
    "    dataset = bigquery.Dataset(dataset_id) # 데이터 세트 설정\n",
    "    dataset.location = \"asia-northeast3\" # 데이터 세트의 지역을 설정(서울로 설정)\n",
    "    dataset = client.create_dataset(dataset)  # API request # 데이터 세트 생성\n",
    "    print(\"Created dataset {}.{}\".format(project_id, dataset.dataset_id))\n",
    "\n",
    "# client = bigquery.Client()\n",
    "# dataset = 'stockdata' \n",
    "\n",
    "### 여기 설정 ###\n",
    "table_name = 'aapl_2021-01-01to2023-12-31' # 'predict_aapl_2021-01-01to2023-12-31_to365days'\n",
    "### 여기 설정 끝 ###\n",
    "\n",
    "table_id = \"{}.{}\".format(dataset_name,table_name)\n",
    "df.to_gbq(destination_table=table_id, project_id=project_id, if_exists='replace')"
   ]
  },
  {
   "cell_type": "code",
   "execution_count": 15,
   "metadata": {},
   "outputs": [
    {
     "name": "stdout",
     "output_type": "stream",
     "text": [
      "Dataset already exists.\n"
     ]
    },
    {
     "name": "stderr",
     "output_type": "stream",
     "text": [
      "100%|██████████| 1/1 [00:00<?, ?it/s]\n"
     ]
    }
   ],
   "source": [
    "from google.cloud import bigquery\n",
    "from google.cloud.exceptions import NotFound\n",
    "\n",
    "# BigQuery 클라이언트 생성\n",
    "client = bigquery.Client()\n",
    "project_id = client.project #'actual-project-415811'\n",
    "\n",
    "### 여기 설정 ###\n",
    "dataset_name = 'stockdata' # 여기 부분 원하는 데이터셋으로 설정\n",
    "### 여기 설정 끝 ###\n",
    "\n",
    "# 데이터 세트 ID 설정. 이 ID는 '[YOUR_PROJECT_ID].[DATASET_ID]' 형식이어야 합니다.\n",
    "dataset_id = \"{}.{}\".format(project_id, dataset_name)\n",
    "\n",
    "# 데이터 세트 참조 생성\n",
    "dataset_ref = bigquery.DatasetReference.from_string(dataset_id)\n",
    "\n",
    "try:\n",
    "    # 데이터 세트가 존재하는지 확인\n",
    "    client.get_dataset(dataset_ref)\n",
    "    print(\"Dataset already exists.\")\n",
    "except NotFound:\n",
    "    # 데이터 세트가 존재하지 않으면, 데이터 세트 생성\n",
    "    dataset = bigquery.Dataset(dataset_id) # 데이터 세트 설정\n",
    "    dataset.location = \"asia-northeast3\" # 데이터 세트의 지역을 설정(서울로 설정)\n",
    "    dataset = client.create_dataset(dataset)  # API request # 데이터 세트 생성\n",
    "    print(\"Created dataset {}.{}\".format(project_id, dataset.dataset_id))\n",
    "\n",
    "# client = bigquery.Client()\n",
    "# dataset = 'stockdata' \n",
    "\n",
    "### 여기 설정 ###\n",
    "table_name = 'predict_aapl_2021-01-01to2023-12-31_to365days'\n",
    "### 여기 설정 끝 ###\n",
    "\n",
    "table_id = \"{}.{}\".format(dataset_name,table_name)\n",
    "df_forecast.to_gbq(destination_table=table_id, project_id=project_id, if_exists='replace')"
   ]
  },
  {
   "cell_type": "code",
   "execution_count": null,
   "metadata": {},
   "outputs": [],
   "source": [
    "def Load_data_in_google_bigquery(df:pd.DataFrame, table_name:str, dataset_name:str='stockdata', if_exists_option:str='replace'):\n",
    "    from google.cloud import bigquery\n",
    "    from google.cloud.exceptions import NotFound\n",
    "\n",
    "    # BigQuery 클라이언트 생성\n",
    "    client = bigquery.Client()\n",
    "    project_id = client.project #'actual-project-415811'\n",
    "\n",
    "    ### 여기 설정 ###\n",
    "    # dataset_name = 'stockdata' # 여기 부분 원하는 데이터셋으로 설정\n",
    "    # table_name = 'predict_aapl_2021-01-01to2023-12-31_to365days'\n",
    "    ### 여기 설정 끝 ###\n",
    "\n",
    "    # 데이터 세트 ID 설정. 이 ID는 '[YOUR_PROJECT_ID].[DATASET_ID]' 형식이어야 합니다.\n",
    "    dataset_id = \"{}.{}\".format(project_id, dataset_name)\n",
    "\n",
    "    # 데이터 세트 참조 생성\n",
    "    dataset_ref = bigquery.DatasetReference.from_string(dataset_id)\n",
    "\n",
    "    try:\n",
    "        # 데이터 세트가 존재하는지 확인\n",
    "        client.get_dataset(dataset_ref)\n",
    "        print(\"Dataset already exists.\")\n",
    "    except NotFound:\n",
    "        # 데이터 세트가 존재하지 않으면, 데이터 세트 생성\n",
    "        dataset = bigquery.Dataset(dataset_id) # 데이터 세트 설정\n",
    "        dataset.location = \"asia-northeast3\" # 데이터 세트의 지역을 설정(서울로 설정)\n",
    "        dataset = client.create_dataset(dataset)  # API request # 데이터 세트 생성\n",
    "        print(\"Created dataset {}.{}\".format(project_id, dataset.dataset_id))\n",
    "\n",
    "    # client = bigquery.Client()\n",
    "    # dataset = 'stockdata' \n",
    "\n",
    "    table_id = \"{}.{}\".format(dataset_name,table_name)\n",
    "    df.to_gbq(destination_table=table_id, project_id=project_id, if_exists=if_exists_option)"
   ]
  },
  {
   "cell_type": "code",
   "execution_count": null,
   "metadata": {},
   "outputs": [],
   "source": [
    "# table_name = 'predict_aapl_2021-01-01to2023-12-31_to365days'\n",
    "def Automatically_create_table_names(predict_status:bool=False) -> str:\n",
    "    if freq_option == 'D': # 후에 딕셔너리 만들어줄까 고민중\n",
    "        datetime = 'days'\n",
    "        \n",
    "    if predict_status == False:\n",
    "        etc='predict_' #''\n",
    "        table_name = f'{etc}{symbol}_{start}to{end}_to{str(fcast_time)}{datetime}'\n",
    "    else:\n",
    "        table_name = f'{symbol}_{start}to{end}'\n",
    "    return table_name"
   ]
  },
  {
   "cell_type": "code",
   "execution_count": null,
   "metadata": {},
   "outputs": [],
   "source": [
    "table_name = Automatically_create_table_names()\n",
    "Load_data_in_google_bigquery(df, table_name=table_name)"
   ]
  },
  {
   "cell_type": "code",
   "execution_count": 10,
   "metadata": {},
   "outputs": [
    {
     "name": "stderr",
     "output_type": "stream",
     "text": [
      "[*********************100%%**********************]  1 of 1 completed\n"
     ]
    },
    {
     "data": {
      "text/html": [
       "<div>\n",
       "<style scoped>\n",
       "    .dataframe tbody tr th:only-of-type {\n",
       "        vertical-align: middle;\n",
       "    }\n",
       "\n",
       "    .dataframe tbody tr th {\n",
       "        vertical-align: top;\n",
       "    }\n",
       "\n",
       "    .dataframe thead th {\n",
       "        text-align: right;\n",
       "    }\n",
       "</style>\n",
       "<table border=\"1\" class=\"dataframe\">\n",
       "  <thead>\n",
       "    <tr style=\"text-align: right;\">\n",
       "      <th></th>\n",
       "      <th>Open</th>\n",
       "      <th>High</th>\n",
       "      <th>Low</th>\n",
       "      <th>Close</th>\n",
       "      <th>Adj Close</th>\n",
       "      <th>Volume</th>\n",
       "      <th>ds</th>\n",
       "      <th>y</th>\n",
       "    </tr>\n",
       "    <tr>\n",
       "      <th>Date</th>\n",
       "      <th></th>\n",
       "      <th></th>\n",
       "      <th></th>\n",
       "      <th></th>\n",
       "      <th></th>\n",
       "      <th></th>\n",
       "      <th></th>\n",
       "      <th></th>\n",
       "    </tr>\n",
       "  </thead>\n",
       "  <tbody>\n",
       "    <tr>\n",
       "      <th>2024-01-02</th>\n",
       "      <td>187.149994</td>\n",
       "      <td>188.440002</td>\n",
       "      <td>183.889999</td>\n",
       "      <td>185.639999</td>\n",
       "      <td>185.403412</td>\n",
       "      <td>82488700</td>\n",
       "      <td>2024-01-02</td>\n",
       "      <td>185.639999</td>\n",
       "    </tr>\n",
       "    <tr>\n",
       "      <th>2024-01-03</th>\n",
       "      <td>184.220001</td>\n",
       "      <td>185.880005</td>\n",
       "      <td>183.429993</td>\n",
       "      <td>184.250000</td>\n",
       "      <td>184.015198</td>\n",
       "      <td>58414500</td>\n",
       "      <td>2024-01-03</td>\n",
       "      <td>184.250000</td>\n",
       "    </tr>\n",
       "    <tr>\n",
       "      <th>2024-01-04</th>\n",
       "      <td>182.149994</td>\n",
       "      <td>183.089996</td>\n",
       "      <td>180.880005</td>\n",
       "      <td>181.910004</td>\n",
       "      <td>181.678177</td>\n",
       "      <td>71983600</td>\n",
       "      <td>2024-01-04</td>\n",
       "      <td>181.910004</td>\n",
       "    </tr>\n",
       "  </tbody>\n",
       "</table>\n",
       "</div>"
      ],
      "text/plain": [
       "                  Open        High         Low       Close   Adj Close  \\\n",
       "Date                                                                     \n",
       "2024-01-02  187.149994  188.440002  183.889999  185.639999  185.403412   \n",
       "2024-01-03  184.220001  185.880005  183.429993  184.250000  184.015198   \n",
       "2024-01-04  182.149994  183.089996  180.880005  181.910004  181.678177   \n",
       "\n",
       "              Volume         ds           y  \n",
       "Date                                         \n",
       "2024-01-02  82488700 2024-01-02  185.639999  \n",
       "2024-01-03  58414500 2024-01-03  184.250000  \n",
       "2024-01-04  71983600 2024-01-04  181.910004  "
      ]
     },
     "metadata": {},
     "output_type": "display_data"
    }
   ],
   "source": [
    "start_r = '2024-01-01'\n",
    "end_r = '2024-02-29'\n",
    "ticker_r = 'AAPL'\n",
    "\n",
    "df_recent = yf.download(ticker_r, start=start_r, end=end_r)\n",
    "df_recent['ds'] = pd.to_datetime(df_recent.index, format = '%Y-%m-%d')\n",
    "df_recent['y'] = df_recent['Close']\n",
    "display(df_recent.head(3))"
   ]
  },
  {
   "cell_type": "code",
   "execution_count": 16,
   "metadata": {},
   "outputs": [
    {
     "name": "stdout",
     "output_type": "stream",
     "text": [
      "Dataset already exists.\n"
     ]
    },
    {
     "name": "stderr",
     "output_type": "stream",
     "text": [
      "100%|██████████| 1/1 [00:00<00:00, 999.12it/s]\n"
     ]
    }
   ],
   "source": [
    "from google.cloud import bigquery\n",
    "from google.cloud.exceptions import NotFound\n",
    "\n",
    "# BigQuery 클라이언트 생성\n",
    "client = bigquery.Client()\n",
    "project_id = client.project #'actual-project-415811'\n",
    "\n",
    "### 여기 설정 ###\n",
    "dataset_name = 'stockdata' # 여기 부분 원하는 데이터셋으로 설정\n",
    "### 여기 설정 끝 ###\n",
    "\n",
    "# 데이터 세트 ID 설정. 이 ID는 '[YOUR_PROJECT_ID].[DATASET_ID]' 형식이어야 합니다.\n",
    "dataset_id = \"{}.{}\".format(project_id, dataset_name)\n",
    "\n",
    "# 데이터 세트 참조 생성\n",
    "dataset_ref = bigquery.DatasetReference.from_string(dataset_id)\n",
    "\n",
    "try:\n",
    "    # 데이터 세트가 존재하는지 확인\n",
    "    client.get_dataset(dataset_ref)\n",
    "    print(\"Dataset already exists.\")\n",
    "except NotFound:\n",
    "    # 데이터 세트가 존재하지 않으면, 데이터 세트 생성\n",
    "    dataset = bigquery.Dataset(dataset_id) # 데이터 세트 설정\n",
    "    dataset.location = \"asia-northeast3\" # 데이터 세트의 지역을 설정(서울로 설정)\n",
    "    dataset = client.create_dataset(dataset)  # API request # 데이터 세트 생성\n",
    "    print(\"Created dataset {}.{}\".format(project_id, dataset.dataset_id))\n",
    "\n",
    "# client = bigquery.Client()\n",
    "# dataset = 'stockdata' \n",
    "\n",
    "### 여기 설정 ###\n",
    "table_name = 'aapl_2024-01-01to2024-02-29' # 'predict_aapl_2021-01-01to2023-12-31_to365days'\n",
    "### 여기 설정 끝 ###\n",
    "\n",
    "table_id = \"{}.{}\".format(dataset_name,table_name)\n",
    "df_recent.to_gbq(destination_table=table_id, project_id=project_id, if_exists='replace')"
   ]
  },
  {
   "cell_type": "code",
   "execution_count": 11,
   "metadata": {},
   "outputs": [],
   "source": [
    "test_data = df_recent['y']\n",
    "fc = df_forecast[df_forecast['ds']>='2024-01-01'].iloc[:len(test_data)]['yhat']\n",
    "\n",
    "test_data = test_data.reset_index(drop=True)\n",
    "fc = fc.reset_index(drop=True)"
   ]
  },
  {
   "cell_type": "code",
   "execution_count": 12,
   "metadata": {},
   "outputs": [
    {
     "name": "stdout",
     "output_type": "stream",
     "text": [
      "MSE:  89.61760808516308\n",
      "MAE:  8.566209109590414\n",
      "RMSE:  9.466657704024325\n",
      "MAPE:  4.63%\n"
     ]
    }
   ],
   "source": [
    "import math\n",
    "from sklearn.metrics import mean_squared_error, mean_absolute_error, mean_absolute_percentage_error\n",
    "\n",
    "mse = mean_squared_error(test_data, fc)\n",
    "print('MSE: ', mse)\n",
    "mae = mean_absolute_error(test_data, fc)\n",
    "print('MAE: ', mae)\n",
    "rmse = math.sqrt(mean_squared_error(test_data, fc))\n",
    "print('RMSE: ', rmse)\n",
    "mape = mean_absolute_percentage_error(test_data, fc)\n",
    "print('MAPE: ' , '{:.2f}%'.format(mape*100))"
   ]
  },
  {
   "cell_type": "code",
   "execution_count": 13,
   "metadata": {},
   "outputs": [],
   "source": [
    "metrics = pd.DataFrame(\n",
    "    {\n",
    "    'MSE': [mse],\n",
    "    'MAE': [mae],\n",
    "    'RMSE': [rmse],\n",
    "    'MAPE_percentage': [mape*100]\n",
    "    }\n",
    ")"
   ]
  },
  {
   "cell_type": "code",
   "execution_count": 14,
   "metadata": {},
   "outputs": [
    {
     "name": "stdout",
     "output_type": "stream",
     "text": [
      "Created dataset actual-project-415811.predict_metrics\n"
     ]
    },
    {
     "name": "stderr",
     "output_type": "stream",
     "text": [
      "100%|██████████| 1/1 [00:00<?, ?it/s]\n"
     ]
    }
   ],
   "source": [
    "from google.cloud import bigquery\n",
    "from google.cloud.exceptions import NotFound\n",
    "\n",
    "# BigQuery 클라이언트 생성\n",
    "client = bigquery.Client()\n",
    "project_id = client.project #'actual-project-415811'\n",
    "\n",
    "### 여기 설정 ###\n",
    "dataset_name = 'predict_metrics' # 여기 부분 원하는 데이터셋으로 설정\n",
    "### 여기 설정 끝 ###\n",
    "\n",
    "# 데이터 세트 ID 설정. 이 ID는 '[YOUR_PROJECT_ID].[DATASET_ID]' 형식이어야 합니다.\n",
    "dataset_id = \"{}.{}\".format(project_id, dataset_name)\n",
    "\n",
    "# 데이터 세트 참조 생성\n",
    "dataset_ref = bigquery.DatasetReference.from_string(dataset_id)\n",
    "\n",
    "try:\n",
    "    # 데이터 세트가 존재하는지 확인\n",
    "    client.get_dataset(dataset_ref)\n",
    "    print(\"Dataset already exists.\")\n",
    "except NotFound:\n",
    "    # 데이터 세트가 존재하지 않으면, 데이터 세트 생성\n",
    "    dataset = bigquery.Dataset(dataset_id) # 데이터 세트 설정\n",
    "    dataset.location = \"asia-northeast3\" # 데이터 세트의 지역을 설정(서울로 설정)\n",
    "    dataset = client.create_dataset(dataset)  # API request # 데이터 세트 생성\n",
    "    print(\"Created dataset {}.{}\".format(project_id, dataset.dataset_id))\n",
    "\n",
    "# client = bigquery.Client()\n",
    "# dataset = 'stockdata' \n",
    "\n",
    "### 여기 설정 ###\n",
    "table_name = 'metrics_prophet_aapl_2024-01-01to2024-02-29' # 'predict_aapl_2021-01-01to2023-12-31_to365days'\n",
    "### 여기 설정 끝 ###\n",
    "\n",
    "table_id = \"{}.{}\".format(dataset_name,table_name)\n",
    "metrics.to_gbq(destination_table=table_id, project_id=project_id, if_exists='replace')"
   ]
  }
 ],
 "metadata": {
  "kernelspec": {
   "display_name": "Python 3",
   "language": "python",
   "name": "python3"
  },
  "language_info": {
   "codemirror_mode": {
    "name": "ipython",
    "version": 3
   },
   "file_extension": ".py",
   "mimetype": "text/x-python",
   "name": "python",
   "nbconvert_exporter": "python",
   "pygments_lexer": "ipython3",
   "version": "3.8.6"
  }
 },
 "nbformat": 4,
 "nbformat_minor": 2
}
